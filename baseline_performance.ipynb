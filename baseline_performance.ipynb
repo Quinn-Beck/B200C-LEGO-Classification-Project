{
 "cells": [
  {
   "cell_type": "code",
   "execution_count": 1,
   "metadata": {},
   "outputs": [],
   "source": [
    "import glob\n",
    "import torch\n",
    "import torch.nn as nn\n",
    "\n",
    "import matplotlib.pyplot as plt\n",
    "\n",
    "from tqdm import tqdm\n",
    "from torchvision.models import squeezenet1_1, resnet50, densenet121\n",
    "from torch.utils.data import TensorDataset, DataLoader\n",
    "from preprocessing_pipeline import get_data"
   ]
  },
  {
   "cell_type": "code",
   "execution_count": null,
   "metadata": {},
   "outputs": [],
   "source": [
    "# TODO: Fix print statements in training loops\n",
    "# TODO: Include time elapsed\n",
    "# TODO: Graph training accuracy vs time elapsed training\n",
    "# TODO: Include MobileNet"
   ]
  },
  {
   "cell_type": "code",
   "execution_count": 2,
   "metadata": {},
   "outputs": [],
   "source": [
    "# set number of classes to 10 for baseline performance comparison\n",
    "num_classes = 10\n",
    "# 20 training epochs\n",
    "num_epochs = 20\n",
    "\n",
    "device = torch.device(\"cuda\" if torch.cuda.is_available() else \"cpu\")"
   ]
  },
  {
   "cell_type": "code",
   "execution_count": 3,
   "metadata": {},
   "outputs": [
    {
     "name": "stderr",
     "output_type": "stream",
     "text": [
      "100%|██████████| 40000/40000 [05:17<00:00, 125.96it/s]\n"
     ]
    }
   ],
   "source": [
    "train_data, test_data = get_data(num_classes=num_classes)\n",
    "\n",
    "train_dataloader = torch.utils.data.DataLoader(train_data, batch_size=32, shuffle=True)\n",
    "test_dataloader = torch.utils.data.DataLoader(test_data, batch_size=32, shuffle=True)"
   ]
  },
  {
   "cell_type": "code",
   "execution_count": 4,
   "metadata": {},
   "outputs": [
    {
     "name": "stdout",
     "output_type": "stream",
     "text": [
      "Epoch 1/20\n",
      "Batch: 0 / Epoch: 0 / Loss: 5.1727\n",
      "Epoch 2/20\n",
      "Batch: 0 / Epoch: 1 / Loss: 1.5659\n",
      "Epoch 3/20\n",
      "Batch: 0 / Epoch: 2 / Loss: 1.0390\n",
      "Epoch 4/20\n",
      "Batch: 0 / Epoch: 3 / Loss: 1.0198\n",
      "Epoch 5/20\n",
      "Batch: 0 / Epoch: 4 / Loss: 0.7121\n",
      "Epoch 6/20\n",
      "Batch: 0 / Epoch: 5 / Loss: 0.9305\n",
      "Epoch 7/20\n",
      "Batch: 0 / Epoch: 6 / Loss: 0.3702\n",
      "Epoch 8/20\n",
      "Batch: 0 / Epoch: 7 / Loss: 0.3821\n",
      "Epoch 9/20\n",
      "Batch: 0 / Epoch: 8 / Loss: 0.3585\n",
      "Epoch 10/20\n",
      "Batch: 0 / Epoch: 9 / Loss: 0.4462\n",
      "Epoch 11/20\n",
      "Batch: 0 / Epoch: 10 / Loss: 0.4774\n",
      "Epoch 12/20\n",
      "Batch: 0 / Epoch: 11 / Loss: 0.4773\n",
      "Epoch 13/20\n",
      "Batch: 0 / Epoch: 12 / Loss: 0.2043\n",
      "Epoch 14/20\n",
      "Batch: 0 / Epoch: 13 / Loss: 0.4612\n",
      "Epoch 15/20\n",
      "Batch: 0 / Epoch: 14 / Loss: 0.1193\n",
      "Epoch 16/20\n",
      "Batch: 0 / Epoch: 15 / Loss: 0.4353\n",
      "Epoch 17/20\n",
      "Batch: 0 / Epoch: 16 / Loss: 0.1511\n",
      "Epoch 18/20\n",
      "Batch: 0 / Epoch: 17 / Loss: 0.1324\n",
      "Epoch 19/20\n",
      "Batch: 0 / Epoch: 18 / Loss: 0.0643\n",
      "Epoch 20/20\n",
      "Batch: 0 / Epoch: 19 / Loss: 0.1702\n"
     ]
    }
   ],
   "source": [
    "squeezenet_model = squeezenet1_1(weights='DEFAULT')\n",
    "# redefine networks final classifier\n",
    "squeezenet_model.classifier[1] = nn.Conv2d(512, num_classes, kernel_size=1)\n",
    "squeezenet_model.num_classes = num_classes\n",
    "# send to gpu\n",
    "squeezenet_model = squeezenet_model.to(device)\n",
    "\n",
    "\n",
    "squeeze_loss_fn = nn.CrossEntropyLoss()\n",
    "squeeze_optimizer = torch.optim.Adam(params=squeezenet_model.parameters(), lr = 1e-5)\n",
    "\n",
    "# initialize training loss\n",
    "squeeze_training_loss = []\n",
    "\n",
    "for epoch in range(num_epochs):\n",
    "    print(f\"Epoch {epoch+1}/{num_epochs}\")\n",
    "    \n",
    "    for i, (b_x, b_y) in enumerate(train_dataloader):\n",
    "        # load data to gpu\n",
    "        b_x = b_x.to(device)\n",
    "        b_y = b_y.to(device)\n",
    "        \n",
    "        y_pred = squeezenet_model(b_x)\n",
    "        loss = squeeze_loss_fn(y_pred, b_y)\n",
    "        \n",
    "        squeeze_optimizer.zero_grad()\n",
    "        loss.backward()\n",
    "        squeeze_optimizer.step()\n",
    "\n",
    "        \n",
    "        if i % 5000 == 0:\n",
    "            squeeze_training_loss.append(loss.item())\n",
    "            print(f\"Batch: {i} / Epoch: {epoch} / Loss: {loss.item():.4f}\")"
   ]
  },
  {
   "cell_type": "code",
   "execution_count": 5,
   "metadata": {},
   "outputs": [
    {
     "name": "stdout",
     "output_type": "stream",
     "text": [
      "Epoch 1/20\n",
      "Batch: 0 / Epoch: 0 / Loss: 2.3688\n",
      "Epoch 2/20\n",
      "Batch: 0 / Epoch: 1 / Loss: 1.0029\n",
      "Epoch 3/20\n",
      "Batch: 0 / Epoch: 2 / Loss: 0.1133\n",
      "Epoch 4/20\n",
      "Batch: 0 / Epoch: 3 / Loss: 0.1300\n",
      "Epoch 5/20\n",
      "Batch: 0 / Epoch: 4 / Loss: 0.2234\n",
      "Epoch 6/20\n",
      "Batch: 0 / Epoch: 5 / Loss: 0.1732\n",
      "Epoch 7/20\n",
      "Batch: 0 / Epoch: 6 / Loss: 0.0432\n",
      "Epoch 8/20\n",
      "Batch: 0 / Epoch: 7 / Loss: 0.0217\n",
      "Epoch 9/20\n",
      "Batch: 0 / Epoch: 8 / Loss: 0.0041\n",
      "Epoch 10/20\n",
      "Batch: 0 / Epoch: 9 / Loss: 0.0635\n",
      "Epoch 11/20\n",
      "Batch: 0 / Epoch: 10 / Loss: 0.0382\n",
      "Epoch 12/20\n",
      "Batch: 0 / Epoch: 11 / Loss: 0.0044\n",
      "Epoch 13/20\n",
      "Batch: 0 / Epoch: 12 / Loss: 0.0021\n",
      "Epoch 14/20\n",
      "Batch: 0 / Epoch: 13 / Loss: 0.0009\n",
      "Epoch 15/20\n",
      "Batch: 0 / Epoch: 14 / Loss: 0.0066\n",
      "Epoch 16/20\n",
      "Batch: 0 / Epoch: 15 / Loss: 0.0241\n",
      "Epoch 17/20\n",
      "Batch: 0 / Epoch: 16 / Loss: 0.0004\n",
      "Epoch 18/20\n",
      "Batch: 0 / Epoch: 17 / Loss: 0.0032\n",
      "Epoch 19/20\n",
      "Batch: 0 / Epoch: 18 / Loss: 0.0200\n",
      "Epoch 20/20\n",
      "Batch: 0 / Epoch: 19 / Loss: 0.0012\n"
     ]
    }
   ],
   "source": [
    "resnet_model = resnet50(weights='DEFAULT')\n",
    "# get number of in_features from source\n",
    "num_features = resnet_model.fc.in_features\n",
    "# redefine the networks final fully connected layer\n",
    "resnet_model.fc = nn.Linear(num_features, num_classes)\n",
    "# send to gpu\n",
    "resnet_model = resnet_model.to(device)\n",
    "\n",
    "\n",
    "res_loss_fn = nn.CrossEntropyLoss()\n",
    "res_optimizer = torch.optim.Adam(params=resnet_model.parameters(), lr = 1e-5)\n",
    "\n",
    "# initialize training loss\n",
    "res_training_loss = []\n",
    "\n",
    "for epoch in range(num_epochs):\n",
    "    print(f\"Epoch {epoch+1}/{num_epochs}\")\n",
    "    \n",
    "    for i, (b_x, b_y) in enumerate(train_dataloader):\n",
    "        # load data to gpu\n",
    "        b_x = b_x.to(device)\n",
    "        b_y = b_y.to(device)\n",
    "        \n",
    "        y_pred = resnet_model(b_x)\n",
    "        loss = res_loss_fn(y_pred, b_y)\n",
    "        \n",
    "        res_optimizer.zero_grad()\n",
    "        loss.backward()\n",
    "        res_optimizer.step()\n",
    "\n",
    "        \n",
    "        if i % 5000 == 0:\n",
    "            res_training_loss.append(loss.item())\n",
    "            print(f\"Batch: {i} / Epoch: {epoch} / Loss: {loss.item():.4f}\")"
   ]
  },
  {
   "cell_type": "code",
   "execution_count": 6,
   "metadata": {},
   "outputs": [
    {
     "name": "stdout",
     "output_type": "stream",
     "text": [
      "Epoch 1/20\n",
      "Batch: 0 / Epoch: 0 / Loss: 2.5389 \n",
      "Epoch 2/20\n",
      "Batch: 0 / Epoch: 1 / Loss: 0.8772 \n",
      "Epoch 3/20\n",
      "Batch: 0 / Epoch: 2 / Loss: 0.2395 \n",
      "Epoch 4/20\n",
      "Batch: 0 / Epoch: 3 / Loss: 0.1297 \n",
      "Epoch 5/20\n",
      "Batch: 0 / Epoch: 4 / Loss: 0.1323 \n",
      "Epoch 6/20\n",
      "Batch: 0 / Epoch: 5 / Loss: 0.0439 \n",
      "Epoch 7/20\n",
      "Batch: 0 / Epoch: 6 / Loss: 0.0634 \n",
      "Epoch 8/20\n",
      "Batch: 0 / Epoch: 7 / Loss: 0.0456 \n",
      "Epoch 9/20\n",
      "Batch: 0 / Epoch: 8 / Loss: 0.0196 \n",
      "Epoch 10/20\n",
      "Batch: 0 / Epoch: 9 / Loss: 0.2105 \n",
      "Epoch 11/20\n",
      "Batch: 0 / Epoch: 10 / Loss: 0.0425 \n",
      "Epoch 12/20\n",
      "Batch: 0 / Epoch: 11 / Loss: 0.2249 \n",
      "Epoch 13/20\n",
      "Batch: 0 / Epoch: 12 / Loss: 0.0014 \n",
      "Epoch 14/20\n",
      "Batch: 0 / Epoch: 13 / Loss: 0.0014 \n",
      "Epoch 15/20\n",
      "Batch: 0 / Epoch: 14 / Loss: 0.0056 \n",
      "Epoch 16/20\n",
      "Batch: 0 / Epoch: 15 / Loss: 0.0013 \n",
      "Epoch 17/20\n",
      "Batch: 0 / Epoch: 16 / Loss: 0.0221 \n",
      "Epoch 18/20\n",
      "Batch: 0 / Epoch: 17 / Loss: 0.0066 \n",
      "Epoch 19/20\n",
      "Batch: 0 / Epoch: 18 / Loss: 0.0032 \n",
      "Epoch 20/20\n",
      "Batch: 0 / Epoch: 19 / Loss: 0.0070 \n"
     ]
    }
   ],
   "source": [
    "densenet_model = densenet121(weights='DEFAULT')\n",
    "# get number of in features from source\n",
    "num_features = densenet_model.classifier.in_features\n",
    "# redefine the networks final fully connected layer\n",
    "densenet_model.classifier = nn.Linear(num_features, num_classes)\n",
    "# send to gpu\n",
    "densenet_model = densenet_model.to(device)\n",
    "\n",
    "\n",
    "dense_loss_fn = nn.CrossEntropyLoss()\n",
    "dense_optimizer = torch.optim.Adam(params=densenet_model.parameters(), lr = 1e-5)\n",
    "\n",
    "# initialize training loss\n",
    "dense_training_loss = []\n",
    "\n",
    "\n",
    "for epoch in range(num_epochs):\n",
    "    for i, (b_x, b_y) in enumerate(train_dataloader):\n",
    "        # load data to gpu\n",
    "        b_x = b_x.to(device)\n",
    "        b_y = b_y.to(device)\n",
    "        \n",
    "        y_pred = densenet_model(b_x)\n",
    "        loss = dense_loss_fn(y_pred, b_y)\n",
    "        \n",
    "        dense_optimizer.zero_grad()\n",
    "        loss.backward()\n",
    "        dense_optimizer.step()\n",
    "\n",
    "        # progress_bar.update(1)\n",
    "        \n",
    "        if i % 5000 == 0:\n",
    "            dense_training_loss.append(loss.item())\n",
    "            print(f\"Epoch: {epoch+1}/{num_epochs} --- Training Loss: {loss.item():.4f} --- Training Accuracy: \")"
   ]
  },
  {
   "cell_type": "code",
   "execution_count": 7,
   "metadata": {},
   "outputs": [],
   "source": [
    "# custom accuracy computation, optionally displays predictions\n",
    "def validate(model, data, display_pred = False):\n",
    "    total = 0\n",
    "    correct = 0\n",
    "    for i, (images, labels) in enumerate(data):\n",
    "        images = images.to(device)\n",
    "        labels = labels.to(device)\n",
    "        \n",
    "        x = model(images)\n",
    "        value, pred = torch.max(x, 1)\n",
    "        \n",
    "        total += x.size(0)\n",
    "        correct += torch.sum(pred == labels)\n",
    "        \n",
    "        if i % 1000 == 0 & display_pred == True:\n",
    "            print(f\"Pred: {x} / True: {labels}\")\n",
    "    return correct / total"
   ]
  },
  {
   "cell_type": "code",
   "execution_count": 11,
   "metadata": {},
   "outputs": [
    {
     "name": "stdout",
     "output_type": "stream",
     "text": [
      "SqueezeNet test accuracy: 0.9038\n",
      "ResNet50 test accuracy: 0.9763\n",
      "DenseNet121 test accuracy: 0.9774\n"
     ]
    }
   ],
   "source": [
    "print(f\"SqueezeNet test accuracy: {validate(squeezenet_model, test_dataloader).item():.4f}\")\n",
    "print(f\"ResNet50 test accuracy: {validate(resnet_model, test_dataloader).item():.4f}\")\n",
    "print(f\"DenseNet121 test accuracy: {validate(densenet_model, test_dataloader).item():.4f}\")"
   ]
  },
  {
   "cell_type": "code",
   "execution_count": 13,
   "metadata": {},
   "outputs": [
    {
     "data": {
      "text/plain": [
       "[<matplotlib.lines.Line2D at 0x221c0950c50>]"
      ]
     },
     "execution_count": 13,
     "metadata": {},
     "output_type": "execute_result"
    },
    {
     "data": {
      "image/png": "[encoded data removed]",
      "text/plain": [
       "<Figure size 640x480 with 1 Axes>"
      ]
     },
     "metadata": {},
     "output_type": "display_data"
    }
   ],
   "source": [
    "plt.plot(squeeze_training_loss)\n",
    "plt.plot(res_training_loss)\n",
    "plt.plot(dense_training_loss)"
   ]
  }
 ],
 "metadata": {
  "kernelspec": {
   "display_name": "Python 3",
   "language": "python",
   "name": "python3"
  },
  "language_info": {
   "codemirror_mode": {
    "name": "ipython",
    "version": 3
   },
   "file_extension": ".py",
   "mimetype": "text/x-python",
   "name": "python",
   "nbconvert_exporter": "python",
   "pygments_lexer": "ipython3",
   "version": "3.11.0rc2"
  }
 },
 "nbformat": 4,
 "nbformat_minor": 2
}
