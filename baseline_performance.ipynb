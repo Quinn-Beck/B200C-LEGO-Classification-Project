{
 "cells": [
  {
   "cell_type": "code",
   "execution_count": 1,
   "metadata": {},
   "outputs": [],
   "source": [
    "import time\n",
    "import torch\n",
    "import torch.nn as nn\n",
    "import matplotlib.pyplot as plt\n",
    "import seaborn as sns\n",
    "import pandas as pd\n",
    "\n",
    "from prettytable import PrettyTable\n",
    "from tqdm import tqdm\n",
    "from torchvision.models import squeezenet1_1, mobilenet_v3_small, mobilenet_v3_large, resnet50\n",
    "from torch.utils.data import DataLoader\n",
    "from torchvision.models import mobilenet_v3_small\n",
    "from torchvision.transforms import v2\n",
    "from tools.data import data_generator\n",
    "from tools.fit import train, validate, test"
   ]
  },
  {
   "cell_type": "markdown",
   "metadata": {},
   "source": [
    "# Preprocessing and Setup"
   ]
  },
  {
   "cell_type": "code",
   "execution_count": 2,
   "metadata": {},
   "outputs": [],
   "source": [
    "device = torch.device(\"cuda\" if torch.cuda.is_available() else \"cpu\")\n",
    "num_classes = 200\n",
    "num_epochs = 7\n",
    "\n",
    "# TODO: add more transforms - RandomPerspective/ RandomRotation/ FiveCrop OR RandomCrop &OR RandomResizedCrop\n",
    "train_transform = v2.Compose([v2.ToImage(), \n",
    "                              v2.ToDtype(torch.float32, scale=True)\n",
    "                              #v2.RandomPerspective(),\n",
    "                              #v2.RandomRotation(degrees=30),\n",
    "                              #v2.FiveCrop(size=(48,48)),\n",
    "                              #v2.Normalize()\n",
    "                              ])\n",
    "\n",
    "eval_transform = v2.Compose([v2.ToImage(), v2.ToDtype(torch.float32, scale=True)])"
   ]
  },
  {
   "cell_type": "code",
   "execution_count": 3,
   "metadata": {},
   "outputs": [],
   "source": [
    "# --- LOAD DATA ---\n",
    "train_data, val_data, test_data = data_generator(train_transform, \n",
    "                                                 eval_transform,\n",
    "                                                 num_classes)\n",
    "\n",
    "train_dl = DataLoader(train_data, batch_size=64,\n",
    "                      shuffle=True, num_workers=4,\n",
    "                      pin_memory=True)\n",
    "val_dl = DataLoader(val_data, batch_size=64,\n",
    "                    shuffle=True, num_workers=4,\n",
    "                    pin_memory=True)\n",
    "test_dl = DataLoader(test_data, batch_size=64,\n",
    "                     shuffle=True, num_workers=4,\n",
    "                     pin_memory=True)"
   ]
  },
  {
   "cell_type": "markdown",
   "metadata": {},
   "source": [
    "# Training"
   ]
  },
  {
   "cell_type": "code",
   "execution_count": 4,
   "metadata": {},
   "outputs": [
    {
     "name": "stdout",
     "output_type": "stream",
     "text": [
      "4.0808116114854815 tensor(13.2811, device='cuda:0')\n",
      "2.620985173690319 tensor(32.1272, device='cuda:0')\n",
      "2.1120528603196145 tensor(41.7580, device='cuda:0')\n",
      "1.8275185229063033 tensor(47.8981, device='cuda:0')\n",
      "1.6374053723216058 tensor(52.2317, device='cuda:0')\n",
      "1.4997751867651938 tensor(55.5587, device='cuda:0')\n",
      "1.392451539260149 tensor(58.1664, device='cuda:0')\n"
     ]
    }
   ],
   "source": [
    "squeezenet_model = squeezenet1_1(weights='DEFAULT')\n",
    "# redefine networks final classifier\n",
    "squeezenet_model.classifier[1] = nn.Conv2d(512, num_classes, kernel_size=1)\n",
    "squeezenet_model.num_classes = num_classes\n",
    "# send to gpu\n",
    "squeezenet_model = squeezenet_model.to(device)\n",
    "\n",
    "squeeze_loss_fn = nn.CrossEntropyLoss()\n",
    "squeeze_optimizer = torch.optim.Adam(params=squeezenet_model.parameters(), lr = 1e-5)\n",
    "\n",
    "# initialize training/val loss & accuracy\n",
    "squeeze_train_loss = []\n",
    "squeeze_train_acc = []\n",
    "\n",
    "for epoch in range(num_epochs):\n",
    "    # training loop\n",
    "    train_epoch_loss, train_epoch_acc = train(squeezenet_model, device, train_dl, squeeze_optimizer, squeeze_loss_fn)\n",
    "    squeeze_train_loss.append(train_epoch_loss)\n",
    "    squeeze_train_acc.append(train_epoch_acc)\n",
    "    print(train_epoch_loss, train_epoch_acc)\n",
    "    \n",
    "torch.save(squeezenet_model.state_dict(), 'squeezenet1_1_state.pt')"
   ]
  },
  {
   "cell_type": "code",
   "execution_count": 5,
   "metadata": {},
   "outputs": [
    {
     "name": "stdout",
     "output_type": "stream",
     "text": [
      "1.7105273019492626 tensor(52.6189, device='cuda:0')\n",
      "0.861611755746603 tensor(71.9130, device='cuda:0')\n",
      "0.692253957670927 tensor(76.6825, device='cuda:0')\n",
      "0.6026886909201741 tensor(79.3466, device='cuda:0')\n",
      "0.5404472106173634 tensor(81.3052, device='cuda:0')\n",
      "0.49160305255800485 tensor(82.9512, device='cuda:0')\n",
      "0.4558044115826487 tensor(84.0566, device='cuda:0')\n"
     ]
    }
   ],
   "source": [
    "# --- INSTANTIATE / LOAD MODEL ---\n",
    "mobilenet_model = mobilenet_v3_small(weights='DEFAULT')\n",
    "# get number of in features from source\n",
    "num_features = mobilenet_model.classifier[3].in_features\n",
    "# redefine the networks final fully connected layer\n",
    "mobilenet_model.classifier[3] = nn.Linear(num_features, num_classes)\n",
    "# send to gpu\n",
    "mobilenet_model = mobilenet_model.to(device)\n",
    "\n",
    "# --- TRAINING ---\n",
    "mobile_loss_fn = nn.CrossEntropyLoss()\n",
    "mobile_optimizer = torch.optim.Adam(params=mobilenet_model.parameters(), lr=1e-4)\n",
    "\n",
    "# initialize training/val loss & accuracy\n",
    "mobile_train_loss = []\n",
    "mobile_train_acc = []\n",
    "# mobile_val_loss = []\n",
    "# mobile_val_acc = []\n",
    "\n",
    "# table = PrettyTable()\n",
    "# table.field_names = ['Epoch', 'Training Loss', 'Validation Loss', 'Training Accuracy', 'Validation Accuracy']\n",
    "\n",
    "for epoch in range(num_epochs):\n",
    "    # training loop\n",
    "    train_epoch_loss, train_epoch_acc = train(mobilenet_model, device, train_dl, mobile_optimizer, mobile_loss_fn)\n",
    "    mobile_train_loss.append(train_epoch_loss)\n",
    "    mobile_train_acc.append(train_epoch_acc)\n",
    "    print(train_epoch_loss, train_epoch_acc)\n",
    "#     # validation loop\n",
    "#     val_epoch_loss, val_epoch_acc = validate(mobilenet_model, device, val_dl, loss_fn)\n",
    "#     mobile_val_loss.append(val_epoch_loss)\n",
    "#     mobile_val_acc.append(val_epoch_acc)\n",
    "#     # store epoch results in prettytable row\n",
    "# TODO: Convert epoch stats from Tensor to int or something roundable\n",
    "#     row = [\n",
    "#         round(epoch+1, 4),  # epoch is an integer, so no need to convert\n",
    "#         round(train_epoch_loss.item(), 4) if isinstance(train_epoch_loss, torch.Tensor) else round(train_epoch_loss, 4),\n",
    "#         round(val_epoch_loss.item(), 4) if isinstance(val_epoch_loss, torch.Tensor) else round(val_epoch_loss, 4),\n",
    "#         round(train_epoch_acc.item(), 4) if isinstance(train_epoch_acc, torch.Tensor) else round(train_epoch_acc, 4),\n",
    "#         round(val_epoch_acc.item(), 4) if isinstance(val_epoch_acc, torch.Tensor) else round(val_epoch_acc, 4)\n",
    "#     ]\n",
    "#     table.add_rows([row])\n",
    "# print(table)\n",
    "\n",
    "# # --- RESULTS VISUALIZATION ---\n",
    "# fig, ax = plt.subplots(1, 1, figsize=(16, 5))  \n",
    "\n",
    "# ax.plot(mobile_train_loss, label='Train Loss', color='red')\n",
    "# ax.plot(mobile_val_loss, label='Validation Loss', color='blue')\n",
    "\n",
    "# ax.set_title('MobileNetV3(Small) Loss vs Epochs')\n",
    "# ax.set_xlabel('Epochs')\n",
    "# ax.set_ylabel('Loss')\n",
    "# ax.legend()\n",
    "# ax.grid(True)\n",
    "\n",
    "torch.save(mobilenet_model.state_dict(), 'mobilenetV3_small_state.pt')"
   ]
  },
  {
   "cell_type": "code",
   "execution_count": 6,
   "metadata": {},
   "outputs": [],
   "source": [
    "# loading pretrained model from save state\n",
    "\n",
    "# mobile_loss_fn = nn.CrossEntropyLoss()\n",
    "# # --- INSTANTIATE / LOAD MODEL ---\n",
    "# mobilenet_model = mobilenet_v3_small(weights='DEFAULT')\n",
    "# # get number of in features from source\n",
    "# num_features = mobilenet_model.classifier[3].in_features\n",
    "# # redefine the networks final fully connected layer\n",
    "# mobilenet_model.classifier[3] = nn.Linear(num_features, num_classes)\n",
    "# # send to gpu\n",
    "# mobilenet_model = mobilenet_model.to(device)\n",
    "# mobilenet_model.load_state_dict(torch.load('mobilenetV3_small_state.pt'))"
   ]
  },
  {
   "cell_type": "code",
   "execution_count": 7,
   "metadata": {},
   "outputs": [
    {
     "name": "stdout",
     "output_type": "stream",
     "text": [
      "1.1234707615152002 tensor(67.0748, device='cuda:0')\n",
      "0.4851280972495675 tensor(83.0944, device='cuda:0')\n",
      "0.3715459684550762 tensor(86.6842, device='cuda:0')\n",
      "0.30347563659250737 tensor(89.1323, device='cuda:0')\n",
      "0.25895253277905284 tensor(90.5831, device='cuda:0')\n",
      "0.22678376735411584 tensor(91.6781, device='cuda:0')\n",
      "0.2012403815136291 tensor(92.5180, device='cuda:0')\n"
     ]
    }
   ],
   "source": [
    "# --- INSTANTIATE / LOAD MODEL ---\n",
    "mobilenet_l_model = mobilenet_v3_large(weights='DEFAULT')\n",
    "# get number of in features from source\n",
    "num_features = mobilenet_l_model.classifier[3].in_features\n",
    "# redefine the networks final fully connected layer\n",
    "mobilenet_l_model.classifier[3] = nn.Linear(num_features, 200)\n",
    "# send to gpu\n",
    "mobilenet_l_model = mobilenet_l_model.to(device)\n",
    "\n",
    "# --- TRAINING ---\n",
    "mobile_l_loss_fn = nn.CrossEntropyLoss()\n",
    "mobile_l_optimizer = torch.optim.Adam(params=mobilenet_l_model.parameters(), lr=1e-4)\n",
    "\n",
    "# initialize training/val loss & accuracy\n",
    "mobile_l_train_loss = []\n",
    "mobile_l_train_acc = []\n",
    "# mobile_l_val_loss = []\n",
    "# mobile_l_val_acc = []\n",
    "\n",
    "# table = PrettyTable()\n",
    "# table.field_names = ['Epoch', 'Training Loss', 'Validation Loss', 'Training Accuracy', 'Validation Accuracy']\n",
    "\n",
    "for epoch in range(num_epochs):\n",
    "    # training loop\n",
    "    train_epoch_loss, train_epoch_acc = train(mobilenet_l_model, device, train_dl, mobile_l_optimizer, mobile_l_loss_fn)\n",
    "    mobile_l_train_loss.append(train_epoch_loss)\n",
    "    mobile_l_train_acc.append(train_epoch_acc)\n",
    "    print(train_epoch_loss, train_epoch_acc)\n",
    "\n",
    "torch.save(mobilenet_l_model.state_dict(), 'mobilenetV3_large_state.pt')"
   ]
  },
  {
   "cell_type": "code",
   "execution_count": 8,
   "metadata": {},
   "outputs": [
    {
     "name": "stdout",
     "output_type": "stream",
     "text": [
      "0.4253082916975021 tensor(85.0584, device='cuda:0')\n",
      "0.40078090895861385 tensor(85.8206, device='cuda:0')\n",
      "0.3785639877445996 tensor(86.5450, device='cuda:0')\n",
      "0.3584332454048097 tensor(87.1966, device='cuda:0')\n",
      "0.3426983310587704 tensor(87.6837, device='cuda:0')\n",
      "0.3266990590013564 tensor(88.2011, device='cuda:0')\n",
      "0.3129300588298589 tensor(88.6458, device='cuda:0')\n"
     ]
    }
   ],
   "source": [
    "resnet_model = resnet50(weights='DEFAULT')\n",
    "# get number of in_features from source\n",
    "num_features = resnet_model.fc.in_features\n",
    "# redefine the networks final fully connected layer\n",
    "resnet_model.fc = nn.Linear(num_features, num_classes)\n",
    "# send to gpu\n",
    "resnet_model = resnet_model.to(device)\n",
    "\n",
    "\n",
    "res_loss_fn = nn.CrossEntropyLoss()\n",
    "res_optimizer = torch.optim.Adam(params=resnet_model.parameters(), lr = 1e-5)\n",
    "\n",
    "# initialize training loss\n",
    "res_train_loss = []\n",
    "res_train_acc = []\n",
    "\n",
    "for epoch in range(num_epochs):\n",
    "    # training loop\n",
    "    train_epoch_loss, train_epoch_acc = train(mobilenet_model, device, train_dl, mobile_optimizer, mobile_loss_fn)\n",
    "    mobile_train_loss.append(train_epoch_loss)\n",
    "    mobile_train_acc.append(train_epoch_acc)\n",
    "    print(train_epoch_loss, train_epoch_acc)\n",
    "    \n",
    "torch.save(resnet_model.state_dict(), 'resnet50_state.pt')"
   ]
  },
  {
   "cell_type": "markdown",
   "metadata": {},
   "source": [
    "# Results compilation and visualization"
   ]
  },
  {
   "cell_type": "code",
   "execution_count": 13,
   "metadata": {},
   "outputs": [
    {
     "name": "stderr",
     "output_type": "stream",
     "text": [
      "C:\\Users\\Quinn\\AppData\\Roaming\\Python\\Python311\\site-packages\\sklearn\\metrics\\_classification.py:1344: UndefinedMetricWarning: Precision is ill-defined and being set to 0.0 in labels with no predicted samples. Use `zero_division` parameter to control this behavior.\n",
      "  _warn_prf(average, modifier, msg_start, len(result))\n"
     ]
    }
   ],
   "source": [
    "start_time = time.time()\n",
    "squeezenet_results = ['SqueezeNet1.1'] + [round(item, 4) for item in list(test(squeezenet_model, device, test_dl, squeeze_loss_fn))]\n",
    "squeezenet_results += [round(time.time() - start_time, 4)]\n",
    "\n",
    "start_time = time.time()\n",
    "mobilenet_results = ['MobileNetV3(Small)'] + [round(item, 4) for item in list(test(mobilenet_model, device, test_dl, mobile_loss_fn))]\n",
    "mobilenet_results += [round(time.time() - start_time, 4)]\n",
    "\n",
    "start_time = time.time()\n",
    "mobilenet_l_results = ['MobileNetV3(Large)'] + [round(item, 4) for item in list(test(mobilenet_l_model, device, test_dl, mobile_l_loss_fn))]\n",
    "mobilenet_l_results += [round(time.time() - start_time, 4)]\n",
    "\n",
    "start_time = time.time()\n",
    "resnet_results = ['ResNet50'] + [round(item, 4) for item in list(test(resnet_model, device, test_dl, res_loss_fn))]\n",
    "resnet_results += [round(time.time() - start_time, 4)]"
   ]
  },
  {
   "cell_type": "code",
   "execution_count": 15,
   "metadata": {},
   "outputs": [
    {
     "name": "stdout",
     "output_type": "stream",
     "text": [
      "+--------------------+--------+----------+-----------+--------+----------+----------------+-------------------------+\n",
      "|       Model        |  Loss  | Accuracy | Precision | Recall | F1 Score | Top-3 Accuracy | Testing Speed (Seconds) |\n",
      "+--------------------+--------+----------+-----------+--------+----------+----------------+-------------------------+\n",
      "|   SqueezeNet1.1    | 1.1708 |  0.6404  |   0.6433  | 0.6404 |  0.6375  |     0.8585     |         47.3199         |\n",
      "| MobileNetV3(Small) | 0.3773 |  0.8696  |   0.8729  | 0.8696 |  0.8699  |     0.9743     |         46.0982         |\n",
      "| MobileNetV3(Large) | 0.2458 |  0.9134  |   0.9154  | 0.9134 |  0.9132  |     0.9864     |         47.9899         |\n",
      "|      ResNet50      | 5.4713 |  0.005   |   0.0057  | 0.005  |  0.0037  |     0.0155     |         52.4077         |\n",
      "+--------------------+--------+----------+-----------+--------+----------+----------------+-------------------------+\n"
     ]
    }
   ],
   "source": [
    "table = PrettyTable()\n",
    "table.field_names = ['Model', 'Loss', 'Accuracy', \n",
    "                     'Precision', 'Recall', 'F1 Score', \n",
    "                     'Top-3 Accuracy', 'Testing Speed (Seconds)']\n",
    "table.add_rows([squeezenet_results,\n",
    "                mobilenet_results,\n",
    "                mobilenet_l_results,\n",
    "                resnet_results])\n",
    "print(table)"
   ]
  },
  {
   "cell_type": "code",
   "execution_count": 12,
   "metadata": {},
   "outputs": [],
   "source": [
    "# fig, ax = plt.subplots(1, 1, figsize=(16, 5))  \n",
    "\n",
    "# ax.plot(mobile_train_loss, label='Train Loss', color='red')\n",
    "# ax.plot(mobile_val_loss, label='Validation Loss', color='blue')\n",
    "\n",
    "# ax.set_title('MobileNetV3(Small) Loss vs Epochs')\n",
    "# ax.set_xlabel('Epochs')\n",
    "# ax.set_ylabel('Loss')\n",
    "# ax.legend()\n",
    "# ax.grid(True)"
   ]
  }
 ],
 "metadata": {
  "kernelspec": {
   "display_name": "Python 3",
   "language": "python",
   "name": "python3"
  },
  "language_info": {
   "codemirror_mode": {
    "name": "ipython",
    "version": 3
   },
   "file_extension": ".py",
   "mimetype": "text/x-python",
   "name": "python",
   "nbconvert_exporter": "python",
   "pygments_lexer": "ipython3",
   "version": "3.11.0"
  }
 },
 "nbformat": 4,
 "nbformat_minor": 2
}
