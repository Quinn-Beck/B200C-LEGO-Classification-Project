{
 "cells": [
  {
   "cell_type": "code",
   "execution_count": 8,
   "metadata": {},
   "outputs": [],
   "source": [
    "import torch\n",
    "import torch.nn as nn\n",
    "import matplotlib.pyplot as plt\n",
    "import seaborn as sns\n",
    "import pandas as pd\n",
    "\n",
    "from torchvision.models import mobilenet_v3_small\n",
    "from torchvision.transforms import v2\n",
    "from torch.utils.data import DataLoader, Subset\n",
    "from preprocessing_pipeline_v2 import data_generator\n",
    "from sklearn.metrics import top_k_accuracy_score as top_k"
   ]
  },
  {
   "cell_type": "code",
   "execution_count": 25,
   "metadata": {},
   "outputs": [],
   "source": [
    "device = torch.device(\"cuda\" if torch.cuda.is_available() else \"cpu\")\n",
    "\n",
    "# TODO: add more transforms - RandomPerspective/ RandomRotation/ FiveCrop OR RandomCrop &OR RandomResizedCrop\n",
    "train_transform = v2.Compose([v2.ToImage(), \n",
    "                              v2.ToDtype(torch.float32, scale=True)\n",
    "                              #v2.RandomPerspective(),\n",
    "                              #v2.RandomRotation(degrees=30),\n",
    "                              #v2.FiveCrop(size=(48,48)),\n",
    "                              #v2.Normalize()\n",
    "                              ])\n",
    "\n",
    "eval_transform = v2.Compose([v2.ToImage(), v2.ToDtype(torch.float32, scale=True)])\n",
    "# start small scale with only 10 classes\n",
    "num_classes = 10"
   ]
  },
  {
   "cell_type": "code",
   "execution_count": 10,
   "metadata": {},
   "outputs": [],
   "source": [
    "# --- SOME HYPERPARAMETERS ---\n",
    "# num_workers = [0,1,2,3]\n",
    "# num_epochs = 5\n",
    "# learn_rate = 1e-4"
   ]
  },
  {
   "cell_type": "code",
   "execution_count": 26,
   "metadata": {},
   "outputs": [],
   "source": [
    "#num_workers = 2\n",
    "num_epochs = 20\n",
    "learn_rate = 1e-4"
   ]
  },
  {
   "cell_type": "code",
   "execution_count": 12,
   "metadata": {},
   "outputs": [],
   "source": [
    "# --- LOAD DATA ---\n",
    "train_data, val_data, test_data = data_generator(train_transform, \n",
    "                                                 eval_transform, \n",
    "                                                 num_classes)"
   ]
  },
  {
   "cell_type": "code",
   "execution_count": 21,
   "metadata": {},
   "outputs": [],
   "source": [
    "train_dl = DataLoader(train_data, batch_size=64,\n",
    "                      shuffle=True, num_workers=2,\n",
    "                      pin_memory=True)\n",
    "val_dl = DataLoader(val_data, batch_size=64,\n",
    "                    shuffle=True, num_workers=2,\n",
    "                    pin_memory=True)\n",
    "test_dl = DataLoader(test_data, batch_size=64,\n",
    "                     shuffle=True, num_workers=4,\n",
    "                     pin_memory=True)"
   ]
  },
  {
   "cell_type": "code",
   "execution_count": 28,
   "metadata": {},
   "outputs": [
    {
     "name": "stdout",
     "output_type": "stream",
     "text": [
      "Epoch: 1/20 --- Training Loss: 2.8585\n",
      "Epoch: 2/20 --- Training Loss: 0.7852\n",
      "Epoch: 3/20 --- Training Loss: 0.2633\n",
      "Epoch: 4/20 --- Training Loss: 0.3553\n",
      "Epoch: 5/20 --- Training Loss: 0.1422\n",
      "Epoch: 6/20 --- Training Loss: 0.1344\n",
      "Epoch: 7/20 --- Training Loss: 0.0714\n",
      "Epoch: 8/20 --- Training Loss: 0.1120\n",
      "Epoch: 9/20 --- Training Loss: 0.1151\n",
      "Epoch: 10/20 --- Training Loss: 0.0966\n",
      "Epoch: 11/20 --- Training Loss: 0.1372\n",
      "Epoch: 12/20 --- Training Loss: 0.0845\n",
      "Epoch: 13/20 --- Training Loss: 0.0231\n",
      "Epoch: 14/20 --- Training Loss: 0.0014\n",
      "Epoch: 15/20 --- Training Loss: 0.0038\n",
      "Epoch: 16/20 --- Training Loss: 0.0164\n",
      "Epoch: 17/20 --- Training Loss: 0.0017\n",
      "Epoch: 18/20 --- Training Loss: 0.0725\n",
      "Epoch: 19/20 --- Training Loss: 0.0062\n",
      "Epoch: 20/20 --- Training Loss: 0.0033\n"
     ]
    }
   ],
   "source": [
    "# --- INSTANTIATE / LOAD MODEL ---\n",
    "# model.load()???\n",
    "mobilenet_model = mobilenet_v3_small(weights='DEFAULT')\n",
    "# get number of in features from source\n",
    "num_features = mobilenet_model.classifier[3].in_features\n",
    "# redefine the networks final fully connected layer\n",
    "mobilenet_model.classifier[3] = nn.Linear(num_features, num_classes)\n",
    "# send to gpu\n",
    "mobilenet_model = mobilenet_model.to(device)\n",
    "\n",
    "# --- TRAINING ---\n",
    "# TODO: add in validation data, early stopping, etc.\n",
    "loss_fn = nn.CrossEntropyLoss()\n",
    "optimizer = torch.optim.Adam(params=mobilenet_model.parameters(), lr=learn_rate)\n",
    "\n",
    "# initialize training loss\n",
    "training_loss = []\n",
    "\n",
    "for epoch in range(num_epochs):\n",
    "    #start_time = time.time()\n",
    "    i = 0\n",
    "    mobilenet_model.train()\n",
    "    for images, labels in train_dl:\n",
    "        # load data to gpu\n",
    "        images = images.to(device)\n",
    "        labels = labels.to(device)\n",
    "        \n",
    "        y_pred = mobilenet_model(images)\n",
    "        loss = loss_fn(y_pred, labels)\n",
    "        \n",
    "        optimizer.zero_grad()\n",
    "        loss.backward()\n",
    "        optimizer.step()\n",
    "      \n",
    "        if i % 1000 == 0:\n",
    "            training_loss.append(loss.item())\n",
    "            print(f\"Epoch: {epoch+1}/{num_epochs} --- Training Loss: {loss.item():.4f}\")\n",
    "        i += 1\n",
    "            \n",
    "    # mobilenet_model.eval()\n",
    "    # y_true = torch.empty()\n",
    "    # y_pred = torch.empty()\n",
    "    # for (images, labels) in val_dl:\n",
    "    #     images = images.to(device)\n",
    "    #     labels = labels.to(device)\n",
    "        \n",
    "    #     y_true = torch.cat([y_true, labels], dim=0)\n",
    "    #     y_pred = torch.cat([y_pred, mobilenet_model(images)], dim=0)\n",
    "    # print(top_k(y_true, y_pred, k=3))\n",
    "            \n",
    "#mobile_train_time = time.time() - start_time\n",
    "# model.save()???"
   ]
  },
  {
   "cell_type": "code",
   "execution_count": 19,
   "metadata": {},
   "outputs": [],
   "source": [
    "# custom accuracy computation, optionally displays predictions\n",
    "def validate(model, data, display_pred = False):\n",
    "    total = 0\n",
    "    correct = 0\n",
    "    model.eval()\n",
    "    i = 0\n",
    "    for images, labels in data:\n",
    "        images = images.to(device)\n",
    "        labels = labels.to(device)\n",
    "        \n",
    "        x = model(images)\n",
    "        value, pred = torch.max(x, 1)\n",
    "        \n",
    "        total += x.size(0)\n",
    "        correct += torch.sum(pred == labels)\n",
    "        \n",
    "        if i % 1000 == 0 & display_pred == True:\n",
    "            print(f\"Pred: {x} / True: {labels}\")\n",
    "        i += 1\n",
    "    return correct / total"
   ]
  },
  {
   "cell_type": "code",
   "execution_count": 29,
   "metadata": {},
   "outputs": [
    {
     "name": "stdout",
     "output_type": "stream",
     "text": [
      "MobileNetV3 test accuracy: 0.9593\n"
     ]
    }
   ],
   "source": [
    "print(f\"MobileNetV3 test accuracy: {validate(mobilenet_model.to(device), data=val_dl).item():.4f}\")"
   ]
  }
 ],
 "metadata": {
  "kernelspec": {
   "display_name": "Python 3",
   "language": "python",
   "name": "python3"
  },
  "language_info": {
   "codemirror_mode": {
    "name": "ipython",
    "version": 3
   },
   "file_extension": ".py",
   "mimetype": "text/x-python",
   "name": "python",
   "nbconvert_exporter": "python",
   "pygments_lexer": "ipython3",
   "version": "3.11.0rc2"
  }
 },
 "nbformat": 4,
 "nbformat_minor": 2
}
